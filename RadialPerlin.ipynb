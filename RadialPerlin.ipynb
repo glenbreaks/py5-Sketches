{
 "cells": [
  {
   "cell_type": "code",
   "execution_count": 13,
   "id": "cac5a589-526b-4d78-8423-b19460fe1cee",
   "metadata": {},
   "outputs": [],
   "source": [
    "import time\n",
    "import py5_tools\n",
    "import numpy as np"
   ]
  },
  {
   "cell_type": "code",
   "execution_count": 14,
   "id": "f9bc82c8-3791-48bb-9b2e-bed637b0454c",
   "metadata": {},
   "outputs": [],
   "source": [
    "def setup():\n",
    "    size(1000,1000)\n",
    "    background(255)\n",
    "    stroke(20)\n",
    "    stroke_weight(5)\n",
    "    no_fill()"
   ]
  },
  {
   "cell_type": "code",
   "execution_count": 24,
   "id": "bb4095ed-e9ce-4376-8be0-399f082a48c3",
   "metadata": {},
   "outputs": [],
   "source": [
    "scaling = 50\n",
    "resolution = .002\n",
    "numpoints = 200\n",
    "\n",
    "radius = 150\n",
    "numRings = 20"
   ]
  },
  {
   "cell_type": "code",
   "execution_count": 25,
   "id": "2ccdc46d-4988-4f81-a3d4-6941a3cb81e9",
   "metadata": {},
   "outputs": [],
   "source": [
    "def seq(start, stop, step=1):\n",
    "    n = int(round((stop - start)/float(step)))\n",
    "    if n > 1:\n",
    "        return([start + step*i for i in range(n+1)])\n",
    "    elif n == 1:\n",
    "        return([start])\n",
    "    else:\n",
    "        return([])"
   ]
  },
  {
   "cell_type": "code",
   "execution_count": 26,
   "id": "7021514d-7d56-414c-88b4-de7e4476a2fb",
   "metadata": {},
   "outputs": [],
   "source": [
    "def draw():\n",
    "    for r in np.arange(0, radius, radius/numRings):\n",
    "        begin_shape()\n",
    "        for a in seq(-TAU/numpoints,TAU+TAU/numpoints, TAU/numpoints):\n",
    "            x = width/2 + r * cos(a)\n",
    "            y = height/2 + r * sin(a)\n",
    "        \n",
    "            n1 = np.interp(noise(x*resolution), [0, 1], [-scaling, scaling])\n",
    "            n2 = np.interp(noise(y*resolution), [0, 1], [-scaling, scaling])\n",
    "        \n",
    "            curve_vertex(x+n1, y+n2)\n",
    "            \n",
    "            if(random()>0.75-0.25*sin(r)):\n",
    "                end_shape()\n",
    "                no_loop()\n",
    "                begin_shape()\n",
    "        \n",
    "        end_shape()\n",
    "    \n",
    "    no_loop()\n",
    "    \n",
    "run_sketch()"
   ]
  },
  {
   "cell_type": "code",
   "execution_count": null,
   "id": "fcf4dd94-e5bf-467a-98da-07f1369bbc65",
   "metadata": {},
   "outputs": [],
   "source": []
  }
 ],
 "metadata": {
  "kernelspec": {
   "display_name": "py5",
   "language": "python",
   "name": "py5"
  },
  "language_info": {
   "codemirror_mode": {
    "name": "ipython",
    "version": 3
   },
   "file_extension": ".py",
   "mimetype": "text/x-python",
   "name": "python",
   "nbconvert_exporter": "python",
   "pygments_lexer": "ipython3",
   "version": "3.8.13"
  }
 },
 "nbformat": 4,
 "nbformat_minor": 5
}
