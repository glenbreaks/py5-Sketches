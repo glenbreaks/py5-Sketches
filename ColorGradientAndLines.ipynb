{
 "cells": [
  {
   "cell_type": "code",
   "execution_count": 5,
   "id": "fdbe32ca-c7a8-4442-9dff-398d67becd5f",
   "metadata": {},
   "outputs": [],
   "source": [
    "import numpy as np\n",
    "import time\n",
    "\n",
    "rez = .00087 \n",
    "\n",
    "scaling = 100\n",
    "resolution = .002\n",
    "npoints = 100\n",
    "\n",
    "radius = 400\n",
    "nrings = 20\n",
    "\n",
    "def setup():\n",
    "    size(1280, 1280)\n",
    "    background(220)\n",
    "    no_stroke()\n",
    "    \n",
    "def draw():\n",
    "    t = 200\n",
    "    for i in range(0, height, 1):\n",
    "        for j in range(0, width, 1):\n",
    "            n1 = noise(i*rez,j*rez, t)\n",
    "            n2 = noise(i*rez-t,j*rez, t)\n",
    "            n3 = noise(i*rez+t,j*rez, t)\n",
    "            fill(n1*255*cos(random(0,.35)), n2*255*cos(random(0,.35)), n3*255*cos(random(0,.35)))\n",
    "            rect(i,j,1, 1)\n",
    "    \n",
    "        t += 0.0008 * cos(random(90,180))\n",
    "    \n",
    "    stroke(20)\n",
    "    stroke_weight(2)\n",
    "    no_fill()\n",
    "    \n",
    "    for r in np.arange(0, radius, radius/nrings * cos(random())):    \n",
    "        begin_shape()\n",
    "        for a in np.arange(-TAU/npoints, TAU+ TAU/npoints, TAU/npoints):\n",
    "            x = height *.5 + r * cos(a) \n",
    "            y = width *.5 + r * sin(a)\n",
    "        \n",
    "            rnoise = np.interp([noise(x * resolution), noise(y * resolution)], [0,1], [-scaling, scaling])\n",
    "            #point(x  + rnoise[0],y + rnoise[1])\n",
    "            stroke(255* cos(random(0,.55)), 255* cos(random(0,.55)), 255* cos(random(0,.55)))\n",
    "            curve_vertex(x  + rnoise[0],y + rnoise[1])\n",
    "    \n",
    "            if(random() > 0.75-0.25*sin(r)):\n",
    "                end_shape()\n",
    "                begin_shape()\n",
    "            \n",
    "            #if(random() > 0.75-0.25*cos(r)):\n",
    "            #    end_shape()\n",
    "            #    begin_shape()\n",
    "            \n",
    "        end_shape()\n",
    "        \n",
    "    no_loop()\n",
    "    \n",
    "run_sketch()"
   ]
  },
  {
   "cell_type": "code",
   "execution_count": null,
   "id": "9c41f1a9-adaa-46cc-9d0b-4c6031612fa4",
   "metadata": {},
   "outputs": [],
   "source": []
  }
 ],
 "metadata": {
  "kernelspec": {
   "display_name": "py5",
   "language": "python",
   "name": "py5"
  },
  "language_info": {
   "codemirror_mode": {
    "name": "ipython",
    "version": 3
   },
   "file_extension": ".py",
   "mimetype": "text/x-python",
   "name": "python",
   "nbconvert_exporter": "python",
   "pygments_lexer": "ipython3",
   "version": "3.8.13"
  }
 },
 "nbformat": 4,
 "nbformat_minor": 5
}
